{
 "cells": [
  {
   "cell_type": "code",
   "execution_count": 17,
   "metadata": {},
   "outputs": [],
   "source": [
    "import pandas as pd\n",
    "\n",
    "train = pd.read_csv(\"data/train.csv\")\n",
    "test = pd.read_csv(\"data/test.csv\")"
   ]
  },
  {
   "cell_type": "code",
   "execution_count": 20,
   "metadata": {},
   "outputs": [
    {
     "data": {
      "text/html": [
       "<div>\n",
       "<style scoped>\n",
       "    .dataframe tbody tr th:only-of-type {\n",
       "        vertical-align: middle;\n",
       "    }\n",
       "\n",
       "    .dataframe tbody tr th {\n",
       "        vertical-align: top;\n",
       "    }\n",
       "\n",
       "    .dataframe thead th {\n",
       "        text-align: right;\n",
       "    }\n",
       "</style>\n",
       "<table border=\"1\" class=\"dataframe\">\n",
       "  <thead>\n",
       "    <tr style=\"text-align: right;\">\n",
       "      <th></th>\n",
       "      <th>text</th>\n",
       "      <th>label</th>\n",
       "    </tr>\n",
       "  </thead>\n",
       "  <tbody>\n",
       "    <tr>\n",
       "      <th>0</th>\n",
       "      <td>asaphysicaltherapy.com/</td>\n",
       "      <td>0</td>\n",
       "    </tr>\n",
       "    <tr>\n",
       "      <th>1</th>\n",
       "      <td>apps-mobile.2fh. co/ZKB_SmsSecurity.apk</td>\n",
       "      <td>1</td>\n",
       "    </tr>\n",
       "    <tr>\n",
       "      <th>2</th>\n",
       "      <td>facebook.com/pages/lothaire-bluteau/68869887925</td>\n",
       "      <td>0</td>\n",
       "    </tr>\n",
       "    <tr>\n",
       "      <th>3</th>\n",
       "      <td>support.microsoft.com/kb/816295</td>\n",
       "      <td>0</td>\n",
       "    </tr>\n",
       "    <tr>\n",
       "      <th>4</th>\n",
       "      <td>gooseneckhillwaterfowlfarm.com/7yIW3D6ihFtY/4o...</td>\n",
       "      <td>1</td>\n",
       "    </tr>\n",
       "    <tr>\n",
       "      <th>5</th>\n",
       "      <td>imusicz.net/search/video/1/+Romanz+++n+Duisend...</td>\n",
       "      <td>0</td>\n",
       "    </tr>\n",
       "    <tr>\n",
       "      <th>6</th>\n",
       "      <td>answers.ask.com/Arts/Literature/where_did_vinc...</td>\n",
       "      <td>0</td>\n",
       "    </tr>\n",
       "    <tr>\n",
       "      <th>7</th>\n",
       "      <td>ctts.in/assets/download/revalidate-alert/draft...</td>\n",
       "      <td>1</td>\n",
       "    </tr>\n",
       "    <tr>\n",
       "      <th>8</th>\n",
       "      <td>cmac-cacm.ca/about/judges_e.shtml</td>\n",
       "      <td>0</td>\n",
       "    </tr>\n",
       "    <tr>\n",
       "      <th>9</th>\n",
       "      <td>en.wikipedia.org/wiki/WKKI</td>\n",
       "      <td>0</td>\n",
       "    </tr>\n",
       "    <tr>\n",
       "      <th>10</th>\n",
       "      <td>youtube.com/watch?v=Nj9UmLPJiFc</td>\n",
       "      <td>0</td>\n",
       "    </tr>\n",
       "    <tr>\n",
       "      <th>11</th>\n",
       "      <td>xvideos.com/video349836/megan_leigh_double_pen...</td>\n",
       "      <td>0</td>\n",
       "    </tr>\n",
       "    <tr>\n",
       "      <th>12</th>\n",
       "      <td>107.160.185.171/office/austin/server/cp.php?m=...</td>\n",
       "      <td>1</td>\n",
       "    </tr>\n",
       "    <tr>\n",
       "      <th>13</th>\n",
       "      <td>www.gamershell.com/pc/harry_potter_and_the_cha...</td>\n",
       "      <td>0</td>\n",
       "    </tr>\n",
       "    <tr>\n",
       "      <th>14</th>\n",
       "      <td>www.information-management.com/issues/20050701...</td>\n",
       "      <td>0</td>\n",
       "    </tr>\n",
       "    <tr>\n",
       "      <th>15</th>\n",
       "      <td>computermeasurgroomst.club/</td>\n",
       "      <td>1</td>\n",
       "    </tr>\n",
       "    <tr>\n",
       "      <th>16</th>\n",
       "      <td>driversoundinter.com/c.html</td>\n",
       "      <td>1</td>\n",
       "    </tr>\n",
       "    <tr>\n",
       "      <th>17</th>\n",
       "      <td>lewedwardsgroup.com/about/index.html</td>\n",
       "      <td>0</td>\n",
       "    </tr>\n",
       "    <tr>\n",
       "      <th>18</th>\n",
       "      <td>atousauniversal.com/fim/index.php?userid=abuse...</td>\n",
       "      <td>1</td>\n",
       "    </tr>\n",
       "    <tr>\n",
       "      <th>19</th>\n",
       "      <td>cecholdings.com/Product.html</td>\n",
       "      <td>0</td>\n",
       "    </tr>\n",
       "  </tbody>\n",
       "</table>\n",
       "</div>"
      ],
      "text/plain": [
       "                                                 text  label\n",
       "0                             asaphysicaltherapy.com/      0\n",
       "1             apps-mobile.2fh. co/ZKB_SmsSecurity.apk      1\n",
       "2     facebook.com/pages/lothaire-bluteau/68869887925      0\n",
       "3                     support.microsoft.com/kb/816295      0\n",
       "4   gooseneckhillwaterfowlfarm.com/7yIW3D6ihFtY/4o...      1\n",
       "5   imusicz.net/search/video/1/+Romanz+++n+Duisend...      0\n",
       "6   answers.ask.com/Arts/Literature/where_did_vinc...      0\n",
       "7   ctts.in/assets/download/revalidate-alert/draft...      1\n",
       "8                   cmac-cacm.ca/about/judges_e.shtml      0\n",
       "9                          en.wikipedia.org/wiki/WKKI      0\n",
       "10                    youtube.com/watch?v=Nj9UmLPJiFc      0\n",
       "11  xvideos.com/video349836/megan_leigh_double_pen...      0\n",
       "12  107.160.185.171/office/austin/server/cp.php?m=...      1\n",
       "13  www.gamershell.com/pc/harry_potter_and_the_cha...      0\n",
       "14  www.information-management.com/issues/20050701...      0\n",
       "15                        computermeasurgroomst.club/      1\n",
       "16                        driversoundinter.com/c.html      1\n",
       "17               lewedwardsgroup.com/about/index.html      0\n",
       "18  atousauniversal.com/fim/index.php?userid=abuse...      1\n",
       "19                       cecholdings.com/Product.html      0"
      ]
     },
     "execution_count": 20,
     "metadata": {},
     "output_type": "execute_result"
    }
   ],
   "source": [
    "test.head(20)"
   ]
  },
  {
   "cell_type": "code",
   "execution_count": null,
   "metadata": {},
   "outputs": [],
   "source": [
    "data1 = pd.concat([train,test])\n",
    "data1.columns = [\"url\", \"label\"]\n",
    "data1.head()"
   ]
  },
  {
   "cell_type": "code",
   "execution_count": null,
   "metadata": {},
   "outputs": [],
   "source": [
    "data0 =  pd.read_csv(\"Phishing_URL_2.csv\")\n",
    "data0 = data0.drop(\"Unnamed: 0\", axis=1)\n",
    "data0.head()"
   ]
  },
  {
   "cell_type": "code",
   "execution_count": null,
   "metadata": {},
   "outputs": [],
   "source": [
    "#Create a function to merge two tables with binary labels\n",
    "def merge_labelled(data0, data1, column):\n",
    "\n",
    "    merged = pd.merge(left= data0, right = data1, on = column, how = \"outer\")\n",
    "    \n",
    "\n"
   ]
  },
  {
   "cell_type": "code",
   "execution_count": null,
   "metadata": {},
   "outputs": [],
   "source": [
    "merged = pd.merge(left= data0, right = data1, on = \"url\", how = \"outer\")\n",
    "merged.head()"
   ]
  },
  {
   "cell_type": "code",
   "execution_count": null,
   "metadata": {},
   "outputs": [],
   "source": [
    "label1 = merged[ merged[\"label_x\"] == merged[\"label_y\"] ]\n",
    "label2 = merged[ (merged[\"label_x\"].isna()) | (merged[\"label_y\"].isna())  ]\n",
    "labelled = pd.merge(label1, label2, how = \"outer\")\n",
    "labelled.head()"
   ]
  },
  {
   "cell_type": "code",
   "execution_count": null,
   "metadata": {},
   "outputs": [],
   "source": [
    "def labelling(row):\n",
    "    if (row.label_x == 1) | (row.label_x == 0):\n",
    "        return row.label_x\n",
    "    else:\n",
    "        return row.label_y\n",
    "    \n",
    "def labelling1(row):\n",
    "    return row[\"label_A\"]\n",
    "\n",
    "\n",
    "labelled[\"label\"] = labelled.apply(labelling, axis =1)\n",
    "labelled.drop([\"label_x\", \"label_y\"], axis = 1, inplace=True)"
   ]
  },
  {
   "cell_type": "code",
   "execution_count": 16,
   "metadata": {},
   "outputs": [
    {
     "name": "stdout",
     "output_type": "stream",
     "text": [
      "                                                 url  label\n",
      "0  \u0005\\t¯7Lø.á>V>4z¢¶Mù2<¯LOâ¿3\u0006È/µ$\u0018*)Då©WÄcg...    0.0\n",
      "1                                 \u0010@\u000bÒÊ\u001c\\\u001ft¹Ë¨öí\u0005\f    0.0\n",
      "2                                   \u0010H\u000bÖË\u001c]\u001ft¹[ÈöýE    0.0\n",
      "3                  \u0011\u0018Yìê\fkoãÕ»Î§DéÎ\u0002l½ñ¡ââqtò¸/à; Í    0.0\n",
      "4  \u0013^o\u0014ð]Â|¬|hõElòdy^Å\u0015~f\fb\u0011_jH0TRË\u0013R¯ÆÏ\u0013a...    0.0\n"
     ]
    }
   ],
   "source": [
    "print(labelled.head())"
   ]
  }
 ],
 "metadata": {
  "kernelspec": {
   "display_name": "Python 3",
   "language": "python",
   "name": "python3"
  },
  "language_info": {
   "codemirror_mode": {
    "name": "ipython",
    "version": 3
   },
   "file_extension": ".py",
   "mimetype": "text/x-python",
   "name": "python",
   "nbconvert_exporter": "python",
   "pygments_lexer": "ipython3",
   "version": "3.12.1"
  }
 },
 "nbformat": 4,
 "nbformat_minor": 2
}
